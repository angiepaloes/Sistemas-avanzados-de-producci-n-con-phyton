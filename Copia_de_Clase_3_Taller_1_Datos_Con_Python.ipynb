{
  "cells": [
    {
      "cell_type": "markdown",
      "metadata": {
        "id": "view-in-github",
        "colab_type": "text"
      },
      "source": [
        "<a href=\"https://colab.research.google.com/github/angiepaloes/Sistemas-avanzados-de-producci-n-con-phyton/blob/main/Copia_de_Clase_3_Taller_1_Datos_Con_Python.ipynb\" target=\"_parent\"><img src=\"https://colab.research.google.com/assets/colab-badge.svg\" alt=\"Open In Colab\"/></a>"
      ]
    },
    {
      "cell_type": "markdown",
      "id": "67390b8f",
      "metadata": {
        "id": "67390b8f"
      },
      "source": [
        "\n",
        "# Clase 3 (2h): Muestreo, bootstrap, TCL y regresión lineal\n",
        "\n",
        "**Objetivos**\n",
        "- Muestra vs. población y variabilidad muestral.\n",
        "- Bootstrap para intervalo de confianza (media).\n",
        "- Teorema Central del Límite (TCL) con simulaciones.\n",
        "- Correlación de Pearson y regresión lineal.\n",
        "- Paradoja de Simpson (demostración).\n"
      ]
    },
    {
      "cell_type": "code",
      "execution_count": null,
      "id": "48d92188",
      "metadata": {
        "id": "48d92188"
      },
      "outputs": [],
      "source": [
        "\n",
        "import sys, platform\n",
        "import numpy as np, pandas as pd\n",
        "import matplotlib.pyplot as plt\n",
        "import statsmodels.api as sm\n",
        "from scipy import stats\n",
        "%matplotlib inline\n",
        "print(\"Python:\", sys.version.split()[0], \"|\", platform.platform())\n"
      ]
    },
    {
      "cell_type": "code",
      "execution_count": null,
      "id": "0f306f99",
      "metadata": {
        "id": "0f306f99"
      },
      "outputs": [],
      "source": [
        "\n",
        "# Dataset base (si no existe 'da')\n",
        "if 'da' not in globals():\n",
        "    np.random.seed(123)\n",
        "    n = 1000\n",
        "    da = pd.DataFrame({\n",
        "        \"SEQN\": np.arange(1, n+1),\n",
        "        \"RIAGENDR\": np.random.choice([1, 2], size=n),\n",
        "        \"RIDAGEYR\": np.random.randint(18, 80, size=n),\n",
        "        \"BMXWT\": np.round(np.random.normal(72, 14, size=n), 1),\n",
        "        \"BMXHT\": np.round(np.random.normal(169, 9, size=n), 1),\n",
        "    })\n",
        "    da[\"BMXBMI\"] = np.round(da[\"BMXWT\"] / (da[\"BMXHT\"]/100)**2, 1)\n",
        "    da[\"sexo\"] = da[\"RIAGENDR\"].map({1:\"Masculino\", 2:\"Femenino\"})\n",
        "da.head()"
      ]
    },
    {
      "cell_type": "markdown",
      "id": "9a1109cb",
      "metadata": {
        "id": "9a1109cb"
      },
      "source": [
        "## Distribución de medias muestrales"
      ]
    },
    {
      "cell_type": "code",
      "execution_count": null,
      "id": "9a675874",
      "metadata": {
        "id": "9a675874"
      },
      "outputs": [],
      "source": [
        "\n",
        "np.random.seed(7)\n",
        "base = da[\"BMXBMI\"].dropna().values if \"BMXBMI\" in da.columns else da.select_dtypes(include=[np.number]).iloc[:,0].dropna().values\n",
        "\n",
        "def medias_muestrales(base, n_muestra=60, repeticiones=800):\n",
        "    medios = []\n",
        "    for _ in range(repeticiones):\n",
        "        muestra = np.random.choice(base, size=n_muestra, replace=True)\n",
        "        medios.append(muestra.mean())\n",
        "    return np.array(medios)\n",
        "\n",
        "mm = medias_muestrales(base, n_muestra=60, repeticiones=800)\n",
        "print(\"Media base:\", np.mean(base).round(3), \"| Media de medias:\", mm.mean().round(3))\n",
        "\n",
        "plt.figure(); plt.hist(mm, bins=30)\n",
        "plt.title(\"Distribución de medias muestrales (n=60)\")\n",
        "plt.xlabel(\"Media muestral\"); plt.ylabel(\"Frecuencia\"); plt.show()"
      ]
    },
    {
      "cell_type": "markdown",
      "id": "064a2c0f",
      "metadata": {
        "id": "064a2c0f"
      },
      "source": [
        "## Bootstrap: IC para la media"
      ]
    },
    {
      "cell_type": "code",
      "execution_count": null,
      "id": "3a4fc104",
      "metadata": {
        "id": "3a4fc104"
      },
      "outputs": [],
      "source": [
        "\n",
        "def bootstrap_ci_media(x, B=2000, conf=0.95):\n",
        "    x = np.asarray(x); n = len(x)\n",
        "    boots = np.empty(B)\n",
        "    for b in range(B):\n",
        "        idx = np.random.randint(0, n, n)\n",
        "        boots[b] = x[idx].mean()\n",
        "    alpha = (1-conf)/2\n",
        "    lo, hi = np.quantile(boots, [alpha, 1-alpha])\n",
        "    return lo, hi, boots\n",
        "\n",
        "lo, hi, boots = bootstrap_ci_media(base, B=2000, conf=0.95)\n",
        "print(f\"IC 95% bootstrap ≈ [{lo:.2f}, {hi:.2f}]\")\n",
        "\n",
        "plt.figure(); plt.hist(boots, bins=30)\n",
        "plt.title(\"Bootstrap de la media\"); plt.xlabel(\"Media bootstrap\"); plt.ylabel(\"Frecuencia\"); plt.show()\n"
      ]
    },
    {
      "cell_type": "markdown",
      "id": "0a8c7a47",
      "metadata": {
        "id": "0a8c7a47"
      },
      "source": [
        "## Teorema Central del Límite (TCL)"
      ]
    },
    {
      "cell_type": "code",
      "execution_count": null,
      "id": "b289d27c",
      "metadata": {
        "id": "b289d27c"
      },
      "outputs": [],
      "source": [
        "\n",
        "np.random.seed(33); lam = 1.0; Nrep = 2000\n",
        "for n in [5, 30, 100]:\n",
        "    means = [np.mean(np.random.exponential(scale=1/lam, size=n)) for _ in range(Nrep)]\n",
        "    plt.figure(); plt.hist(means, bins=30)\n",
        "    plt.title(f\"TCL: medias con exponencial (n={n})\")\n",
        "    plt.xlabel(\"Media muestral\"); plt.ylabel(\"Frecuencia\"); plt.show()\n"
      ]
    },
    {
      "cell_type": "markdown",
      "id": "82b6a96c",
      "metadata": {
        "id": "82b6a96c"
      },
      "source": [
        "## Correlación y regresión lineal (Edad → IMC)"
      ]
    },
    {
      "cell_type": "code",
      "execution_count": null,
      "id": "e7cb2986",
      "metadata": {
        "id": "e7cb2986"
      },
      "outputs": [],
      "source": [
        "\n",
        "if {\"RIDAGEYR\",\"BMXBMI\"}.issubset(da.columns):\n",
        "    x = da[\"RIDAGEYR\"].values; y = da[\"BMXBMI\"].values\n",
        "    r, p = stats.pearsonr(x, y)\n",
        "    print(f\"Correlación Pearson (Edad, IMC): r={r:.3f}, p={p:.3g}\")\n",
        "    X = sm.add_constant(x)\n",
        "    model = sm.OLS(y, X, missing='drop').fit()\n",
        "    print(model.summary())\n",
        "    xgrid = np.linspace(x.min(), x.max(), 100); yhat = model.predict(sm.add_constant(xgrid))\n",
        "    plt.figure(); plt.scatter(x, y, s=10); plt.plot(xgrid, yhat)\n",
        "    plt.title(\"IMC vs Edad con recta OLS\"); plt.xlabel(\"Edad (años)\"); plt.ylabel(\"IMC\"); plt.show()\n",
        "else:\n",
        "    print(\"Faltan columnas 'RIDAGEYR' y/o 'BMXBMI'.\")\n"
      ]
    },
    {
      "cell_type": "markdown",
      "id": "fbf94c64",
      "metadata": {
        "id": "fbf94c64"
      },
      "source": [
        "## Paradoja de Simpson"
      ]
    },
    {
      "cell_type": "code",
      "execution_count": null,
      "id": "22aa7b13",
      "metadata": {
        "id": "22aa7b13"
      },
      "outputs": [],
      "source": [
        "\n",
        "np.random.seed(2024)\n",
        "nA, nB = 200, 200\n",
        "edad_A = np.random.normal(30, 6, size=nA)\n",
        "imc_A  = 0.15*edad_A + np.random.normal(0, 2.5, size=nA) + 20\n",
        "edad_B = np.random.normal(55, 6, size=nB)\n",
        "imc_B  = 0.15*edad_B + np.random.normal(0, 2.5, size=nB) + 10\n",
        "\n",
        "edad = np.concatenate([edad_A, edad_B])\n",
        "imc  = np.concatenate([imc_A, imc_B])\n",
        "\n",
        "XA = sm.add_constant(edad_A); XB = sm.add_constant(edad_B)\n",
        "mA = sm.OLS(imc_A, XA).fit(); mB = sm.OLS(imc_B, XB).fit()\n",
        "Xg = sm.add_constant(edad); mg = sm.OLS(imc, Xg).fit()\n",
        "\n",
        "xg = np.linspace(edad.min(), edad.max(), 100)\n",
        "plt.figure(); plt.scatter(edad_A, imc_A, s=10); plt.plot(xg, mA.predict(sm.add_constant(xg)))\n",
        "plt.title(\"Grupo A: IMC vs Edad\"); plt.xlabel(\"Edad\"); plt.ylabel(\"IMC\"); plt.show()\n",
        "\n",
        "plt.figure(); plt.scatter(edad_B, imc_B, s=10); plt.plot(xg, mB.predict(sm.add_constant(xg)))\n",
        "plt.title(\"Grupo B: IMC vs Edad\"); plt.xlabel(\"Edad\"); plt.ylabel(\"IMC\"); plt.show()\n",
        "\n",
        "plt.figure(); plt.scatter(edad, imc, s=10); plt.plot(xg, mg.predict(sm.add_constant(xg)))\n",
        "plt.title(\"Combinados: IMC vs Edad (Simpson)\"); plt.xlabel(\"Edad\"); plt.ylabel(\"IMC\"); plt.show()\n"
      ]
    },
    {
      "cell_type": "markdown",
      "id": "fc57efe2",
      "metadata": {
        "id": "fc57efe2"
      },
      "source": [
        "\n",
        "## Ejercicios (para tu repositorio)\n",
        "1) IC 90% por bootstrap para la **mediana** y comparación con el IC de la media.  \n",
        "2) TCL con otra distribución (gamma/lognormal) y n={10, 40, 120}.  \n",
        "3) Correlación entre dos pares de variables (interpretación de magnitud, signo, valor-p).  \n",
        "4) Regresión lineal con otra respuesta y análisis de residuos.\n"
      ]
    },
    {
      "cell_type": "markdown",
      "id": "5d610836",
      "metadata": {
        "id": "5d610836"
      },
      "source": [
        "\n",
        "### Respuestas del estudiante (Markdown)\n",
        "<div class=\"response-box\">\n",
        "Escribe aquí tu análisis y conclusiones para los puntos 1–4.\n",
        "</div>\n"
      ]
    },
    {
      "cell_type": "code",
      "execution_count": null,
      "id": "57593e36",
      "metadata": {
        "id": "57593e36"
      },
      "outputs": [],
      "source": [
        "# Respuestas del estudiante (Código)\n",
        "# TODO: Añade aquí tu código para los ejercicios de la Clase 3"
      ]
    }
  ],
  "metadata": {
    "colab": {
      "provenance": [],
      "include_colab_link": true
    }
  },
  "nbformat": 4,
  "nbformat_minor": 5
}